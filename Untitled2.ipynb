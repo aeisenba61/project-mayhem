{
 "cells": [
  {
   "cell_type": "code",
   "execution_count": 48,
   "metadata": {
    "collapsed": true
   },
   "outputs": [],
   "source": [
    "# Modules\n",
    "import numpy as np\n",
    "import pandas as pd\n",
    "import requests as req\n",
    "from census import Census\n",
    "from us import states\n",
    "import json\n",
    "import matplotlib.pyplot as plt\n",
    "import seaborn as sns"
   ]
  },
  {
   "cell_type": "code",
   "execution_count": 49,
   "metadata": {
    "collapsed": true
   },
   "outputs": [],
   "source": [
    "# Census API Key from class and target year for our data\n",
    "c = Census('85ac64b6b5a9c0901b00329d1ef41f0c53ccfc98', year=2014)\n",
    "\n",
    "# URL and seperated key for second census API call\n",
    "url = 'http://api.census.gov/data/2014/pep/cty'\n",
    "api_key = '85ac64b6b5a9c0901b00329d1ef41f0c53ccfc98'"
   ]
  },
  {
   "cell_type": "code",
   "execution_count": 50,
   "metadata": {
    "collapsed": true
   },
   "outputs": [],
   "source": [
    "# Make list of target locations using census format\n",
    "locations = ['003', '510', '013', '550', '041', '059', '650', '087',\n",
    "             '107', '700', '710', '153', '760', '177', '179', '810']\n",
    "\n",
    "# Create empty list to store the returned data dictionaries from each location\n",
    "census_data = []"
   ]
  },
  {
   "cell_type": "code",
   "execution_count": 51,
   "metadata": {},
   "outputs": [
    {
     "name": "stdout",
     "output_type": "stream",
     "text": [
      "[[{'NAME': 'Albemarle County, Virginia', 'B19013_001E': 67958.0, 'B01003_001E': 101883.0, 'B01002_001E': 38.5, 'state': '51', 'county': '003'}], [{'NAME': 'Alexandria city, Virginia', 'B19013_001E': 87319.0, 'B01003_001E': 146422.0, 'B01002_001E': 35.8, 'state': '51', 'county': '510'}], [{'NAME': 'Arlington County, Virginia', 'B19013_001E': 105120.0, 'B01003_001E': 220173.0, 'B01002_001E': 33.8, 'state': '51', 'county': '013'}], [{'NAME': 'Chesapeake city, Virginia', 'B19013_001E': 70176.0, 'B01003_001E': 228168.0, 'B01002_001E': 36.6, 'state': '51', 'county': '550'}], [{'NAME': 'Chesterfield County, Virginia', 'B19013_001E': 72514.0, 'B01003_001E': 324337.0, 'B01002_001E': 38.0, 'state': '51', 'county': '041'}], [{'NAME': 'Fairfax County, Virginia', 'B19013_001E': 112102.0, 'B01003_001E': 1117072.0, 'B01002_001E': 37.4, 'state': '51', 'county': '059'}], [{'NAME': 'Hampton city, Virginia', 'B19013_001E': 49879.0, 'B01003_001E': 136904.0, 'B01002_001E': 35.5, 'state': '51', 'county': '650'}], [{'NAME': 'Henrico County, Virginia', 'B19013_001E': 61438.0, 'B01003_001E': 314878.0, 'B01002_001E': 37.8, 'state': '51', 'county': '087'}], [{'NAME': 'Loudoun County, Virginia', 'B19013_001E': 123966.0, 'B01003_001E': 338916.0, 'B01002_001E': 35.1, 'state': '51', 'county': '107'}], [{'NAME': 'Newport News city, Virginia', 'B19013_001E': 51000.0, 'B01003_001E': 181362.0, 'B01002_001E': 32.7, 'state': '51', 'county': '700'}], [{'NAME': 'Norfolk city, Virginia', 'B19013_001E': 44150.0, 'B01003_001E': 244745.0, 'B01002_001E': 29.9, 'state': '51', 'county': '710'}], [{'NAME': 'Prince William County, Virginia', 'B19013_001E': 98514.0, 'B01003_001E': 428772.0, 'B01002_001E': 33.7, 'state': '51', 'county': '153'}], [{'NAME': 'Richmond city, Virginia', 'B19013_001E': 41331.0, 'B01003_001E': 211063.0, 'B01002_001E': 32.6, 'state': '51', 'county': '760'}], [{'NAME': 'Spotsylvania County, Virginia', 'B19013_001E': 78505.0, 'B01003_001E': 126200.0, 'B01002_001E': 36.6, 'state': '51', 'county': '177'}], [{'NAME': 'Stafford County, Virginia', 'B19013_001E': 98721.0, 'B01003_001E': 134672.0, 'B01002_001E': 34.7, 'state': '51', 'county': '179'}], [{'NAME': 'Virginia Beach city, Virginia', 'B19013_001E': 67001.0, 'B01003_001E': 445623.0, 'B01002_001E': 34.9, 'state': '51', 'county': '810'}]]\n"
     ]
    }
   ],
   "source": [
    "# Loop API calls for each of the target locations\n",
    "for loc in locations:\n",
    "    loc_data = c.acs5.get(('NAME', 'B19013_001E', 'B01003_001E', 'B01002_001E'),\n",
    "                             {'for': 'county :' + loc , 'in': 'state : 51'})\n",
    "    \n",
    "    # Append the consolidated data list with the individual location data\n",
    "    census_data.append(loc_data)\n",
    "    \n",
    "print(census_data)   "
   ]
  },
  {
   "cell_type": "code",
   "execution_count": 52,
   "metadata": {
    "collapsed": true
   },
   "outputs": [],
   "source": [
    "# use list comprehension to filter the list of lists which each contain one dict\n",
    "new_list = [i[0] for i in census_data]"
   ]
  },
  {
   "cell_type": "code",
   "execution_count": 53,
   "metadata": {
    "collapsed": true
   },
   "outputs": [],
   "source": [
    "# Turn new list of dicts into data frame\n",
    "census_data_df = pd.DataFrame.from_dict(new_list)\n",
    "\n",
    "# Rename wierd census columns\n",
    "census_data_df.rename(columns={'B01002_001E': 'Median Age', 'B01003_001E': 'Median Household Income',\n",
    "                               'B19013_001E': 'Population', 'NAME': 'Locale'}, inplace=True)\n",
    "\n",
    "# Drop redundent columns\n",
    "census_data_df = census_data_df.drop(['county', 'state'], axis=1)\n",
    "\n",
    "# Show df\n",
    "#census_data_df"
   ]
  },
  {
   "cell_type": "code",
   "execution_count": 54,
   "metadata": {
    "collapsed": true
   },
   "outputs": [],
   "source": [
    "# Read crime csv data into df\n",
    "crime_df = pd.read_csv('raw_data/FBI-crime-data_VA_2014.csv')\n",
    "\n",
    "# Rename the local column\n",
    "crime_df.rename(columns={'Crime Category': 'Locale'}, inplace=True)\n",
    "\n",
    "# Drop extra columns\n",
    "crime_df = crime_df.drop(['Murder and nonnegligent manslaughter', 'Rape', 'Robbery',\n",
    "                          'Aggravated assault', 'Burglary', 'Larceny-theft',\n",
    "                          'Motor vehicle theft'], axis=1)\n",
    "\n",
    "# Show df\n",
    "#crime_df"
   ]
  },
  {
   "cell_type": "code",
   "execution_count": 55,
   "metadata": {
    "collapsed": true
   },
   "outputs": [],
   "source": [
    "# Merge census and crime dfs on Local\n",
    "census_crime_df = pd.merge(census_data_df, crime_df, how='outer', on='Locale')\n",
    "#census_crime_df"
   ]
  },
  {
   "cell_type": "code",
   "execution_count": 56,
   "metadata": {},
   "outputs": [
    {
     "data": {
      "text/plain": [
       "Median Age                 float64\n",
       "Median Household Income    float64\n",
       "Population                 float64\n",
       "Locale                      object\n",
       "Violent crime total          int64\n",
       "Property crime total         int64\n",
       "dtype: object"
      ]
     },
     "execution_count": 56,
     "metadata": {},
     "output_type": "execute_result"
    }
   ],
   "source": [
    "census_crime_df.dtypes"
   ]
  },
  {
   "cell_type": "code",
   "execution_count": 57,
   "metadata": {
    "collapsed": true
   },
   "outputs": [],
   "source": [
    "census_crime_df['Violent Rate'] = census_crime_df['Violent crime total'] / census_crime_df['Population']\n",
    "\n",
    "census_crime_df['Property Rate'] = census_crime_df['Property crime total'] / census_crime_df['Population']\n",
    "\n",
    "#census_crime_df"
   ]
  },
  {
   "cell_type": "code",
   "execution_count": 58,
   "metadata": {
    "collapsed": true
   },
   "outputs": [],
   "source": [
    "# Read crime csv data into df\n",
    "walk_df = pd.read_csv('walk and transit scores.csv')\n",
    "\n",
    "# Drop extra columns\n",
    "walk_df = walk_df.drop(['Unnamed: 0', 'transit score'], axis=1)\n",
    "\n",
    "# Groupby local/area and avg the walk scores\n",
    "walk_df_mean = walk_df.groupby('Area').mean()\n",
    "\n",
    "# Show df\n",
    "#walk_df_mean"
   ]
  },
  {
   "cell_type": "code",
   "execution_count": 59,
   "metadata": {
    "collapsed": true
   },
   "outputs": [],
   "source": [
    "walk_df_mean['Locale'] = list(census_crime_df['Locale'])\n",
    "\n",
    "#walk_df_mean"
   ]
  },
  {
   "cell_type": "code",
   "execution_count": 60,
   "metadata": {},
   "outputs": [
    {
     "data": {
      "text/html": [
       "<div>\n",
       "<style>\n",
       "    .dataframe thead tr:only-child th {\n",
       "        text-align: right;\n",
       "    }\n",
       "\n",
       "    .dataframe thead th {\n",
       "        text-align: left;\n",
       "    }\n",
       "\n",
       "    .dataframe tbody tr th {\n",
       "        vertical-align: top;\n",
       "    }\n",
       "</style>\n",
       "<table border=\"1\" class=\"dataframe\">\n",
       "  <thead>\n",
       "    <tr style=\"text-align: right;\">\n",
       "      <th></th>\n",
       "      <th>Median Age</th>\n",
       "      <th>Median Household Income</th>\n",
       "      <th>Population</th>\n",
       "      <th>Locale</th>\n",
       "      <th>Violent Crime Total</th>\n",
       "      <th>Property Crime Total</th>\n",
       "      <th>Violent Rate</th>\n",
       "      <th>Property Rate</th>\n",
       "      <th>Walk Score</th>\n",
       "    </tr>\n",
       "  </thead>\n",
       "  <tbody>\n",
       "    <tr>\n",
       "      <th>0</th>\n",
       "      <td>38.5</td>\n",
       "      <td>101883.0</td>\n",
       "      <td>67958.0</td>\n",
       "      <td>Albemarle County, Virginia</td>\n",
       "      <td>97</td>\n",
       "      <td>1604</td>\n",
       "      <td>0.001427</td>\n",
       "      <td>0.023603</td>\n",
       "      <td>5.32</td>\n",
       "    </tr>\n",
       "    <tr>\n",
       "      <th>1</th>\n",
       "      <td>35.8</td>\n",
       "      <td>146422.0</td>\n",
       "      <td>87319.0</td>\n",
       "      <td>Alexandria city, Virginia</td>\n",
       "      <td>280</td>\n",
       "      <td>2983</td>\n",
       "      <td>0.003207</td>\n",
       "      <td>0.034162</td>\n",
       "      <td>52.63</td>\n",
       "    </tr>\n",
       "    <tr>\n",
       "      <th>2</th>\n",
       "      <td>33.8</td>\n",
       "      <td>220173.0</td>\n",
       "      <td>105120.0</td>\n",
       "      <td>Arlington County, Virginia</td>\n",
       "      <td>314</td>\n",
       "      <td>3521</td>\n",
       "      <td>0.002987</td>\n",
       "      <td>0.033495</td>\n",
       "      <td>62.66</td>\n",
       "    </tr>\n",
       "    <tr>\n",
       "      <th>3</th>\n",
       "      <td>36.6</td>\n",
       "      <td>228168.0</td>\n",
       "      <td>70176.0</td>\n",
       "      <td>Chesapeake city, Virginia</td>\n",
       "      <td>999</td>\n",
       "      <td>6429</td>\n",
       "      <td>0.014236</td>\n",
       "      <td>0.091613</td>\n",
       "      <td>3.63</td>\n",
       "    </tr>\n",
       "    <tr>\n",
       "      <th>4</th>\n",
       "      <td>38.0</td>\n",
       "      <td>324337.0</td>\n",
       "      <td>72514.0</td>\n",
       "      <td>Chesterfield County, Virginia</td>\n",
       "      <td>422</td>\n",
       "      <td>6373</td>\n",
       "      <td>0.005820</td>\n",
       "      <td>0.087886</td>\n",
       "      <td>7.99</td>\n",
       "    </tr>\n",
       "    <tr>\n",
       "      <th>5</th>\n",
       "      <td>37.4</td>\n",
       "      <td>1117072.0</td>\n",
       "      <td>112102.0</td>\n",
       "      <td>Fairfax County, Virginia</td>\n",
       "      <td>969</td>\n",
       "      <td>14603</td>\n",
       "      <td>0.008644</td>\n",
       "      <td>0.130265</td>\n",
       "      <td>54.83</td>\n",
       "    </tr>\n",
       "    <tr>\n",
       "      <th>6</th>\n",
       "      <td>35.5</td>\n",
       "      <td>136904.0</td>\n",
       "      <td>49879.0</td>\n",
       "      <td>Hampton city, Virginia</td>\n",
       "      <td>349</td>\n",
       "      <td>4441</td>\n",
       "      <td>0.006997</td>\n",
       "      <td>0.089035</td>\n",
       "      <td>30.14</td>\n",
       "    </tr>\n",
       "    <tr>\n",
       "      <th>7</th>\n",
       "      <td>37.8</td>\n",
       "      <td>314878.0</td>\n",
       "      <td>61438.0</td>\n",
       "      <td>Henrico County, Virginia</td>\n",
       "      <td>502</td>\n",
       "      <td>7818</td>\n",
       "      <td>0.008171</td>\n",
       "      <td>0.127250</td>\n",
       "      <td>16.43</td>\n",
       "    </tr>\n",
       "    <tr>\n",
       "      <th>8</th>\n",
       "      <td>35.1</td>\n",
       "      <td>338916.0</td>\n",
       "      <td>123966.0</td>\n",
       "      <td>Loudoun County, Virginia</td>\n",
       "      <td>221</td>\n",
       "      <td>2607</td>\n",
       "      <td>0.001783</td>\n",
       "      <td>0.021030</td>\n",
       "      <td>3.38</td>\n",
       "    </tr>\n",
       "    <tr>\n",
       "      <th>9</th>\n",
       "      <td>32.7</td>\n",
       "      <td>181362.0</td>\n",
       "      <td>51000.0</td>\n",
       "      <td>Newport News city, Virginia</td>\n",
       "      <td>782</td>\n",
       "      <td>5552</td>\n",
       "      <td>0.015333</td>\n",
       "      <td>0.108863</td>\n",
       "      <td>27.55</td>\n",
       "    </tr>\n",
       "    <tr>\n",
       "      <th>10</th>\n",
       "      <td>29.9</td>\n",
       "      <td>244745.0</td>\n",
       "      <td>44150.0</td>\n",
       "      <td>Norfolk city, Virginia</td>\n",
       "      <td>1285</td>\n",
       "      <td>9696</td>\n",
       "      <td>0.029105</td>\n",
       "      <td>0.219615</td>\n",
       "      <td>37.40</td>\n",
       "    </tr>\n",
       "    <tr>\n",
       "      <th>11</th>\n",
       "      <td>33.7</td>\n",
       "      <td>428772.0</td>\n",
       "      <td>98514.0</td>\n",
       "      <td>Prince William County, Virginia</td>\n",
       "      <td>773</td>\n",
       "      <td>5901</td>\n",
       "      <td>0.007847</td>\n",
       "      <td>0.059900</td>\n",
       "      <td>26.04</td>\n",
       "    </tr>\n",
       "    <tr>\n",
       "      <th>12</th>\n",
       "      <td>32.6</td>\n",
       "      <td>211063.0</td>\n",
       "      <td>41331.0</td>\n",
       "      <td>Richmond city, Virginia</td>\n",
       "      <td>1264</td>\n",
       "      <td>8426</td>\n",
       "      <td>0.030582</td>\n",
       "      <td>0.203866</td>\n",
       "      <td>33.35</td>\n",
       "    </tr>\n",
       "    <tr>\n",
       "      <th>13</th>\n",
       "      <td>36.6</td>\n",
       "      <td>126200.0</td>\n",
       "      <td>78505.0</td>\n",
       "      <td>Spotsylvania County, Virginia</td>\n",
       "      <td>213</td>\n",
       "      <td>1975</td>\n",
       "      <td>0.002713</td>\n",
       "      <td>0.025158</td>\n",
       "      <td>0.91</td>\n",
       "    </tr>\n",
       "    <tr>\n",
       "      <th>14</th>\n",
       "      <td>34.7</td>\n",
       "      <td>134672.0</td>\n",
       "      <td>98721.0</td>\n",
       "      <td>Stafford County, Virginia</td>\n",
       "      <td>243</td>\n",
       "      <td>2111</td>\n",
       "      <td>0.002461</td>\n",
       "      <td>0.021383</td>\n",
       "      <td>5.42</td>\n",
       "    </tr>\n",
       "    <tr>\n",
       "      <th>15</th>\n",
       "      <td>34.9</td>\n",
       "      <td>445623.0</td>\n",
       "      <td>67001.0</td>\n",
       "      <td>Virginia Beach city, Virginia</td>\n",
       "      <td>667</td>\n",
       "      <td>9865</td>\n",
       "      <td>0.009955</td>\n",
       "      <td>0.147237</td>\n",
       "      <td>7.32</td>\n",
       "    </tr>\n",
       "  </tbody>\n",
       "</table>\n",
       "</div>"
      ],
      "text/plain": [
       "    Median Age  Median Household Income  Population  \\\n",
       "0         38.5                 101883.0     67958.0   \n",
       "1         35.8                 146422.0     87319.0   \n",
       "2         33.8                 220173.0    105120.0   \n",
       "3         36.6                 228168.0     70176.0   \n",
       "4         38.0                 324337.0     72514.0   \n",
       "5         37.4                1117072.0    112102.0   \n",
       "6         35.5                 136904.0     49879.0   \n",
       "7         37.8                 314878.0     61438.0   \n",
       "8         35.1                 338916.0    123966.0   \n",
       "9         32.7                 181362.0     51000.0   \n",
       "10        29.9                 244745.0     44150.0   \n",
       "11        33.7                 428772.0     98514.0   \n",
       "12        32.6                 211063.0     41331.0   \n",
       "13        36.6                 126200.0     78505.0   \n",
       "14        34.7                 134672.0     98721.0   \n",
       "15        34.9                 445623.0     67001.0   \n",
       "\n",
       "                             Locale  Violent Crime Total  \\\n",
       "0        Albemarle County, Virginia                   97   \n",
       "1         Alexandria city, Virginia                  280   \n",
       "2        Arlington County, Virginia                  314   \n",
       "3         Chesapeake city, Virginia                  999   \n",
       "4     Chesterfield County, Virginia                  422   \n",
       "5          Fairfax County, Virginia                  969   \n",
       "6            Hampton city, Virginia                  349   \n",
       "7          Henrico County, Virginia                  502   \n",
       "8          Loudoun County, Virginia                  221   \n",
       "9       Newport News city, Virginia                  782   \n",
       "10           Norfolk city, Virginia                 1285   \n",
       "11  Prince William County, Virginia                  773   \n",
       "12          Richmond city, Virginia                 1264   \n",
       "13    Spotsylvania County, Virginia                  213   \n",
       "14        Stafford County, Virginia                  243   \n",
       "15    Virginia Beach city, Virginia                  667   \n",
       "\n",
       "    Property Crime Total  Violent Rate  Property Rate  Walk Score  \n",
       "0                   1604      0.001427       0.023603        5.32  \n",
       "1                   2983      0.003207       0.034162       52.63  \n",
       "2                   3521      0.002987       0.033495       62.66  \n",
       "3                   6429      0.014236       0.091613        3.63  \n",
       "4                   6373      0.005820       0.087886        7.99  \n",
       "5                  14603      0.008644       0.130265       54.83  \n",
       "6                   4441      0.006997       0.089035       30.14  \n",
       "7                   7818      0.008171       0.127250       16.43  \n",
       "8                   2607      0.001783       0.021030        3.38  \n",
       "9                   5552      0.015333       0.108863       27.55  \n",
       "10                  9696      0.029105       0.219615       37.40  \n",
       "11                  5901      0.007847       0.059900       26.04  \n",
       "12                  8426      0.030582       0.203866       33.35  \n",
       "13                  1975      0.002713       0.025158        0.91  \n",
       "14                  2111      0.002461       0.021383        5.42  \n",
       "15                  9865      0.009955       0.147237        7.32  "
      ]
     },
     "execution_count": 60,
     "metadata": {},
     "output_type": "execute_result"
    }
   ],
   "source": [
    "ccb_df = pd.merge(census_crime_df, walk_df_mean, how='outer', on='Locale')\n",
    "\n",
    "# Drop extra columns\n",
    "ccb_df = ccb_df.drop(['lat', 'lon'], axis=1)\n",
    "\n",
    "# Rename the local column\n",
    "ccb_df.rename(columns={'Violent crime total':'Violent Crime Total', 'walk score':'Walk Score',\n",
    "                         'Property crime total':'Property Crime Total'}, inplace=True)\n",
    "\n",
    "\n",
    "ccb_df"
   ]
  },
  {
   "cell_type": "code",
   "execution_count": 72,
   "metadata": {},
   "outputs": [
    {
     "name": "stdout",
     "output_type": "stream",
     "text": [
      "<pandas.core.indexing._LocIndexer object at 0x1a187aa320>\n"
     ]
    }
   ],
   "source": [
    "Median_Age = ccb_df.loc('Median Age')\n",
    "print(Median_Age)"
   ]
  },
  {
   "cell_type": "code",
   "execution_count": 73,
   "metadata": {},
   "outputs": [
    {
     "name": "stdout",
     "output_type": "stream",
     "text": [
      "<pandas.core.indexing._LocIndexer object at 0x1a187aa208>\n"
     ]
    }
   ],
   "source": [
    "Walk_Score = ccb_df.loc('Walk Score')\n",
    "print(Walk_Score)"
   ]
  },
  {
   "cell_type": "code",
   "execution_count": 74,
   "metadata": {},
   "outputs": [
    {
     "data": {
      "image/png": "[encoded data removed]",
      "text/plain": [
       "<matplotlib.figure.Figure at 0x1a16562208>"
      ]
     },
     "metadata": {},
     "output_type": "display_data"
    },
    {
     "data": {
      "image/png": "[encoded data removed]",
      "text/plain": [
       "<matplotlib.figure.Figure at 0x1a187af1d0>"
      ]
     },
     "metadata": {},
     "output_type": "display_data"
    }
   ],
   "source": [
    "plt.subplots(figsize=(10,10))\n",
    "ax = sns.swarmplot(x=\"Walk Score\", y=\"Median Age\", data=ccb_df)\n",
    "labels = ax.get_xticklabels()\n",
    "plt.setp(labels, rotation=90, fontsize=14)\n",
    "plt.title('Median Age vs. Walk Score', size = 15)\n",
    "plt.xlabel('Walk Score',size = 30)\n",
    "plt.ylabel('Median Age',size = 30)\n",
    "plt.savefig('Median Age vs. Walk Score.png')\n",
    "plt.show()"
   ]
  },
  {
   "cell_type": "code",
   "execution_count": 76,
   "metadata": {},
   "outputs": [
    {
     "data": {
      "image/png": "[encoded data removed]",
      "text/plain": [
       "<matplotlib.figure.Figure at 0x1a187aa940>"
      ]
     },
     "metadata": {},
     "output_type": "display_data"
    }
   ],
   "source": [
    "plt.subplots(figsize=(10,10))\n",
    "ax = sns.swarmplot(x=\"Walk Score\", y=\"Median Household Income\", data=ccb_df)\n",
    "labels = ax.get_xticklabels()\n",
    "plt.setp(labels, rotation=90, fontsize=14)\n",
    "plt.title('Median Household Income vs. Walk Score', size = 15)\n",
    "plt.xlabel('Walk Score',size = 10)\n",
    "plt.ylabel('Median Household Income',size = 10)\n",
    "plt.savefig('Median Household Income vs. Walk Score.png')\n",
    "plt.show()"
   ]
  },
  {
   "cell_type": "code",
   "execution_count": null,
   "metadata": {
    "collapsed": true
   },
   "outputs": [],
   "source": []
  }
 ],
 "metadata": {
  "kernelspec": {
   "display_name": "Python 3",
   "language": "python",
   "name": "python3"
  },
  "language_info": {
   "codemirror_mode": {
    "name": "ipython",
    "version": 3
   },
   "file_extension": ".py",
   "mimetype": "text/x-python",
   "name": "python",
   "nbconvert_exporter": "python",
   "pygments_lexer": "ipython3",
   "version": "3.6.3"
  }
 },
 "nbformat": 4,
 "nbformat_minor": 2
}
